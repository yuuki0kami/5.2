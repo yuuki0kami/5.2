{
 "cells": [
  {
   "cell_type": "code",
   "execution_count": 12,
   "id": "8022b1c5-f769-444b-8971-e1f38862e3ce",
   "metadata": {
    "tags": []
   },
   "outputs": [
    {
     "name": "stdout",
     "output_type": "stream",
     "text": [
      "Version 0.0.4 { my_func: 0.0.3 { g: 0.0.2 { f: 0.0.1 } } }\n",
      "\n",
      "Delete existing cache\n",
      "00: Deleted existing 'my_big_func' cache C:/Users/hansb/AppData/Local/Temp/.cache/my_big_func_6ac240bc128ec33ca37c17c5aab243e46b976893ccf0c40a.pck\n",
      "01:   Deleted existing 'my_func' cache C:/Users/hansb/AppData/Local/Temp/.cache/my_func_47317c662192f51fddd527cb89369f77c547fc58cca962d7.pck\n",
      "\n",
      "Generate new cache\n",
      "01:   Wrote 'my_func' cache C:/Users/hansb/AppData/Local/Temp/.cache/my_func_47317c662192f51fddd527cb89369f77c547fc58cca962d7.pck\n",
      "00: Wrote 'my_big_func' cache C:/Users/hansb/AppData/Local/Temp/.cache/my_big_func_6ac240bc128ec33ca37c17c5aab243e46b976893ccf0c40a.pck\n",
      "\n",
      "Reading cache\n",
      "00: Successfully read cache for 'my_big_func' from 'C:/Users/hansb/AppData/Local/Temp/.cache/my_big_func_6ac240bc128ec33ca37c17c5aab243e46b976893ccf0c40a.pck'\n",
      "\n",
      "Updating cache\n",
      "00: Deleted existing 'my_big_func' cache C:/Users/hansb/AppData/Local/Temp/.cache/my_big_func_6ac240bc128ec33ca37c17c5aab243e46b976893ccf0c40a.pck\n",
      "01:   Deleted existing 'my_func' cache C:/Users/hansb/AppData/Local/Temp/.cache/my_func_47317c662192f51fddd527cb89369f77c547fc58cca962d7.pck\n",
      "01:   Wrote 'my_func' cache C:/Users/hansb/AppData/Local/Temp/.cache/my_func_47317c662192f51fddd527cb89369f77c547fc58cca962d7.pck\n",
      "00: Wrote 'my_big_func' cache C:/Users/hansb/AppData/Local/Temp/.cache/my_big_func_6ac240bc128ec33ca37c17c5aab243e46b976893ccf0c40a.pck\n",
      "\n",
      "Reading cache\n",
      "00: Successfully read cache for 'my_big_func' from 'C:/Users/hansb/AppData/Local/Temp/.cache/my_big_func_6ac240bc128ec33ca37c17c5aab243e46b976893ccf0c40a.pck'\n",
      "\n",
      "Updating only 'my_big_func'\n",
      "00: Caching mode for function 'my_big_func' set to 'update' as it depends on 'my_big_func'\n",
      "00: Deleted existing 'my_big_func' cache C:/Users/hansb/AppData/Local/Temp/.cache/my_big_func_6ac240bc128ec33ca37c17c5aab243e46b976893ccf0c40a.pck\n",
      "01:   Successfully read cache for 'my_func' from 'C:/Users/hansb/AppData/Local/Temp/.cache/my_func_47317c662192f51fddd527cb89369f77c547fc58cca962d7.pck'\n",
      "00: Wrote 'my_big_func' cache C:/Users/hansb/AppData/Local/Temp/.cache/my_big_func_6ac240bc128ec33ca37c17c5aab243e46b976893ccf0c40a.pck\n",
      "\n",
      "Reading cache\n",
      "00: Successfully read cache for 'my_big_func' from 'C:/Users/hansb/AppData/Local/Temp/.cache/my_big_func_6ac240bc128ec33ca37c17c5aab243e46b976893ccf0c40a.pck'\n"
     ]
    }
   ],
   "source": [
    "from options.cdxbasics.cached import version, cached, Cache\n",
    "# the function f,g are not cached but have versions\n",
    "@version(\"0.0.1\")\n",
    "def f(x,y):\n",
    "    return x*y    \n",
    "@version(\"0.0.2\", dependencies=[f])\n",
    "def g(x,y):\n",
    "    return f(-x,y)\n",
    "\n",
    "# the cached function 'my_func' depends on g and therefore also on f\n",
    "@cached(\"0.0.3\", dependencies=[g])\n",
    "def my_func( x,y, cache=None ):\n",
    "    return g(2*x,y)\n",
    "\n",
    "# the casched function 'my_big_func' depends on 'my_func' and therefore also on g,f\n",
    "@cached(\"0.0.4\", dependencies=[my_func])\n",
    "def my_big_func(x,y,z, cache=None ):\n",
    "    r = my_func(x,y,cache=cache)\n",
    "    return r*z\n",
    "\n",
    "# test versioning\n",
    "print(\"Version\", my_big_func.version) # --> 0.0.4 { my_func: 0.0.3 { g: 0.0.2 { f: 0.0.1 } } }\n",
    "\n",
    "# function call without caching\n",
    "r = my_big_func(2,3,4)                # does not generate a cache: 'cache' argument not provided\n",
    "\n",
    "# delete existing caches\n",
    "print(\"\\nDelete existing cache\")\n",
    "cache = Cache(cache_mode=\"clear\")     # path defaults to !/.cached (e.g. tempdir/.cached)\n",
    "r = my_big_func(2,3,4,cache=cache)    # generates the cache for my_big_func and my_func \n",
    "\n",
    "# test caching\n",
    "print(\"\\nGenerate new cache\")\n",
    "cache = Cache()                       # path defaults to !/.cached (e.g. tempdir/.cached)\n",
    "r = my_big_func(2,3,4,cache=cache)    # generates the cache for my_big_func and my_func \n",
    "print(\"\\nReading cache\")\n",
    "r = my_big_func(2,3,4,cache=cache)    # reads cache for my_big_func\n",
    "\n",
    "# update\n",
    "print(\"\\nUpdating cache\")\n",
    "cache_u = Cache(cache_mode=\"update\")\n",
    "r = my_big_func(2,3,4,cache=cache_u)  # updates the caches for my_big_func, my_func\n",
    "print(\"\\nReading cache\")\n",
    "r = my_big_func(2,3,4,cache=cache)    # reads cache for my_big_func\n",
    "\n",
    "# update only top level cache\n",
    "print(\"\\nUpdating only 'my_big_func'\")\n",
    "cache_lu = Cache(cache_mode=\"on\", update=[my_big_func] )\n",
    "r = my_big_func(2,3,4,cache=cache_lu) # updates the cache for my_big_func using the cache for my_func\n",
    "print(\"\\nReading cache\")\n",
    "r = my_big_func(2,3,4,cache=cache)    # reads cached my_big_func"
   ]
  },
  {
   "cell_type": "code",
   "execution_count": null,
   "id": "b2cb6220-20ef-4eb6-b915-245a06b45ca5",
   "metadata": {},
   "outputs": [],
   "source": []
  }
 ],
 "metadata": {
  "kernelspec": {
   "display_name": "Python 3",
   "language": "python",
   "name": "python3"
  },
  "language_info": {
   "codemirror_mode": {
    "name": "ipython",
    "version": 3
   },
   "file_extension": ".py",
   "mimetype": "text/x-python",
   "name": "python",
   "nbconvert_exporter": "python",
   "pygments_lexer": "ipython3",
   "version": "3.10.9"
  }
 },
 "nbformat": 4,
 "nbformat_minor": 5
}
