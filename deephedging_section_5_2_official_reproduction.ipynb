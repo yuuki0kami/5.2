{
 "cells": [
  {
   "cell_type": "markdown",
   "id": "a0a49243",
   "metadata": {},
   "source": [
    "## 🎯 Deep Hedging Section 5.2 再現ノートブック（公式コードベース）"
   ]
  },
  {
   "cell_type": "code",
   "execution_count": 30,
   "id": "827b93ad",
   "metadata": {},
   "outputs": [],
   "source": [
    "import sys\n",
    "import os\n",
    "sys.path.append(\".\")\n",
    "\n",
    "from deephedging.trainer import train\n",
    "from deephedging.gym import VanillaDeepHedgingGym\n",
    "from deephedging.world import SimpleWorld_Spot_ATM\n",
    "from cdxbasics.config import Config\n",
    "import matplotlib.pyplot as plt\n",
    "import numpy as np\n",
    "import yaml\n",
    "from IPython.display import display, Markdown\n"
   ]
  },
  {
   "cell_type": "code",
   "execution_count": 32,
   "id": "33219fe9",
   "metadata": {},
   "outputs": [
    {
     "ename": "TypeError",
     "evalue": "'NoneType' object is not callable",
     "output_type": "error",
     "traceback": [
      "\u001b[31m---------------------------------------------------------------------------\u001b[39m",
      "\u001b[31mTypeError\u001b[39m                                 Traceback (most recent call last)",
      "\u001b[36mCell\u001b[39m\u001b[36m \u001b[39m\u001b[32mIn[32]\u001b[39m\u001b[32m, line 22\u001b[39m\n\u001b[32m     19\u001b[39m world_wrapped = wrap_config(config_dict.get(\u001b[33m\"\u001b[39m\u001b[33mworld\u001b[39m\u001b[33m\"\u001b[39m, {}))\n\u001b[32m     21\u001b[39m \u001b[38;5;66;03m# 4. World, Gym, Trainer 実行\u001b[39;00m\n\u001b[32m---> \u001b[39m\u001b[32m22\u001b[39m world = \u001b[43mSimpleWorld_Spot_ATM\u001b[49m\u001b[43m(\u001b[49m\u001b[43mworld_wrapped\u001b[49m\u001b[43m)\u001b[49m\n\u001b[32m     23\u001b[39m val_world = world.clone(samples=world.nSamples // \u001b[32m2\u001b[39m)\n\u001b[32m     24\u001b[39m gym = VanillaDeepHedgingGym(config_wrapped)\n",
      "\u001b[36mFile \u001b[39m\u001b[32mg:\\マイドライブ\\先行研究再現_0614\\deephedging\\world.py:105\u001b[39m, in \u001b[36mSimpleWorld_Spot_ATM.__init__\u001b[39m\u001b[34m(self, config, dtype)\u001b[39m\n\u001b[32m    103\u001b[39m \u001b[38;5;28mself\u001b[39m.np_dtype  = dtype.as_numpy_dtype()\n\u001b[32m    104\u001b[39m \u001b[38;5;28mself\u001b[39m.unique_id = \u001b[38;5;28;01mNone\u001b[39;00m               \u001b[38;5;66;03m# for serialization; see below\u001b[39;00m\n\u001b[32m--> \u001b[39m\u001b[32m105\u001b[39m \u001b[38;5;28mself\u001b[39m.config    = \u001b[43mconfig\u001b[49m\u001b[43m.\u001b[49m\u001b[43mcopy\u001b[49m\u001b[43m(\u001b[49m\u001b[43m)\u001b[49m      \u001b[38;5;66;03m# for cloning\u001b[39;00m\n\u001b[32m    107\u001b[39m \u001b[38;5;66;03m# simulator\u001b[39;00m\n\u001b[32m    108\u001b[39m \u001b[38;5;66;03m# ---------\u001b[39;00m\n\u001b[32m    109\u001b[39m nSteps     = config(\u001b[33m\"\u001b[39m\u001b[33msteps\u001b[39m\u001b[33m\"\u001b[39m, \u001b[32m10\u001b[39m, \u001b[38;5;28mint\u001b[39m, help=\u001b[33m\"\u001b[39m\u001b[33mNumber of time steps\u001b[39m\u001b[33m\"\u001b[39m)\n",
      "\u001b[31mTypeError\u001b[39m: 'NoneType' object is not callable"
     ]
    }
   ],
   "source": [
    "from deephedging.trainer import wrap_config\n",
    "from cdxbasics.config import Config\n",
    "import yaml\n",
    "\n",
    "# 1. YAML読み込み\n",
    "with open(\"config.yaml\", \"r\", encoding=\"utf-8\") as f:\n",
    "    config_dict = yaml.safe_load(f)\n",
    "\n",
    "# 2. 再帰的に Config オブジェクトに変換\n",
    "def to_config(d):\n",
    "    if isinstance(d, dict):\n",
    "        return Config({k: to_config(v) for k, v in d.items()})\n",
    "    return d\n",
    "\n",
    "config = to_config(config_dict)\n",
    "\n",
    "# 3. 必要な箇所だけ wrap_config で CdxConfigWrapper に変換（これが最重要）\n",
    "config_wrapped = wrap_config(config)\n",
    "world_wrapped = wrap_config(config_dict.get(\"world\", {}))\n",
    "\n",
    "# 4. World, Gym, Trainer 実行\n",
    "world = SimpleWorld_Spot_ATM(world_wrapped)\n",
    "val_world = world.clone(samples=world.nSamples // 2)\n",
    "gym = VanillaDeepHedgingGym(config_wrapped)\n",
    "\n",
    "train(gym=gym, world=world, val_world=val_world, config=config_wrapped)\n",
    "\n",
    "\n",
    "\n",
    "\n"
   ]
  },
  {
   "cell_type": "code",
   "execution_count": null,
   "id": "a1c33795",
   "metadata": {},
   "outputs": [
    {
     "name": "stdout",
     "output_type": "stream",
     "text": [
      "gym section type: <class 'dict'>\n",
      "after to_config: <class 'cdxbasics.config.Config'>\n"
     ]
    }
   ],
   "source": [
    "print(\"gym section type:\", type(config_dict[\"gym\"]))\n",
    "print(\"after to_config:\", type(config.gym))"
   ]
  },
  {
   "cell_type": "code",
   "execution_count": null,
   "id": "1258ec99",
   "metadata": {},
   "outputs": [
    {
     "ename": "TypeError",
     "evalue": "'TrackedDict' object is not callable",
     "output_type": "error",
     "traceback": [
      "\u001b[31m---------------------------------------------------------------------------\u001b[39m",
      "\u001b[31mTypeError\u001b[39m                                 Traceback (most recent call last)",
      "\u001b[36mCell\u001b[39m\u001b[36m \u001b[39m\u001b[32mIn[22]\u001b[39m\u001b[32m, line 5\u001b[39m\n\u001b[32m      2\u001b[39m val_world = world.clone(samples=world.nSamples // \u001b[32m2\u001b[39m)\n\u001b[32m      3\u001b[39m gym = VanillaDeepHedgingGym(config.gym)\n\u001b[32m----> \u001b[39m\u001b[32m5\u001b[39m \u001b[43mtrain\u001b[49m\u001b[43m(\u001b[49m\u001b[43mgym\u001b[49m\u001b[43m=\u001b[49m\u001b[43mgym\u001b[49m\u001b[43m,\u001b[49m\u001b[43m \u001b[49m\u001b[43mworld\u001b[49m\u001b[43m=\u001b[49m\u001b[43mworld\u001b[49m\u001b[43m,\u001b[49m\u001b[43m \u001b[49m\u001b[43mval_world\u001b[49m\u001b[43m=\u001b[49m\u001b[43mval_world\u001b[49m\u001b[43m,\u001b[49m\u001b[43m \u001b[49m\u001b[43mconfig\u001b[49m\u001b[43m=\u001b[49m\u001b[43mconfig\u001b[49m\u001b[43m)\u001b[49m\n",
      "\u001b[36mFile \u001b[39m\u001b[32mg:\\マイドライブ\\先行研究再現_0614\\deephedging\\trainer.py:372\u001b[39m, in \u001b[36mtrain\u001b[39m\u001b[34m(gym, world, val_world, remote_plotter, config)\u001b[39m\n\u001b[32m    368\u001b[39m \u001b[38;5;66;03m# compile\u001b[39;00m\n\u001b[32m    369\u001b[39m \u001b[38;5;66;03m# -------\u001b[39;00m\n\u001b[32m    371\u001b[39m t0               = time.time()\n\u001b[32m--> \u001b[39m\u001b[32m372\u001b[39m result0          = \u001b[43mgym\u001b[49m\u001b[43m(\u001b[49m\u001b[43mworld\u001b[49m\u001b[43m.\u001b[49m\u001b[43mtf_data\u001b[49m\u001b[43m)\u001b[49m   \u001b[38;5;66;03m# builds the model\u001b[39;00m\n\u001b[32m    373\u001b[39m gym.compile(    optimizer        = optimzier, \n\u001b[32m    374\u001b[39m                 loss             = \u001b[38;5;28mdict\u001b[39m( loss=default_loss ),\n\u001b[32m    375\u001b[39m                 weighted_metrics = \u001b[38;5;28mdict\u001b[39m( loss=default_loss ),\n\u001b[32m    376\u001b[39m                 run_eagerly      = run_eagerly)\n\u001b[32m    377\u001b[39m \u001b[38;5;28;01mif\u001b[39;00m \u001b[38;5;129;01mnot\u001b[39;00m learning_rate \u001b[38;5;129;01mis\u001b[39;00m \u001b[38;5;28;01mNone\u001b[39;00m:\n",
      "\u001b[36mFile \u001b[39m\u001b[32mg:\\マイドライブ\\先行研究再現_0614\\venv\\Lib\\site-packages\\keras\\src\\utils\\traceback_utils.py:122\u001b[39m, in \u001b[36mfilter_traceback.<locals>.error_handler\u001b[39m\u001b[34m(*args, **kwargs)\u001b[39m\n\u001b[32m    119\u001b[39m     filtered_tb = _process_traceback_frames(e.__traceback__)\n\u001b[32m    120\u001b[39m     \u001b[38;5;66;03m# To get the full stack trace, call:\u001b[39;00m\n\u001b[32m    121\u001b[39m     \u001b[38;5;66;03m# `keras.config.disable_traceback_filtering()`\u001b[39;00m\n\u001b[32m--> \u001b[39m\u001b[32m122\u001b[39m     \u001b[38;5;28;01mraise\u001b[39;00m e.with_traceback(filtered_tb) \u001b[38;5;28;01mfrom\u001b[39;00m\u001b[38;5;250m \u001b[39m\u001b[38;5;28;01mNone\u001b[39;00m\n\u001b[32m    123\u001b[39m \u001b[38;5;28;01mfinally\u001b[39;00m:\n\u001b[32m    124\u001b[39m     \u001b[38;5;28;01mdel\u001b[39;00m filtered_tb\n",
      "\u001b[36mFile \u001b[39m\u001b[32mg:\\マイドライブ\\先行研究再現_0614\\deephedging\\gym.py:74\u001b[39m, in \u001b[36mVanillaDeepHedgingGym.build\u001b[39m\u001b[34m(self, shapes)\u001b[39m\n\u001b[32m     71\u001b[39m _log.verify( \u001b[38;5;28misinstance\u001b[39m(shapes, Mapping), \u001b[33m\"\u001b[39m\u001b[33m'\u001b[39m\u001b[33mshapes\u001b[39m\u001b[33m'\u001b[39m\u001b[33m must be a dictionary type. Found type \u001b[39m\u001b[38;5;132;01m%s\u001b[39;00m\u001b[33m\"\u001b[39m, \u001b[38;5;28mtype\u001b[39m(shapes ))\n\u001b[32m     73\u001b[39m nInst         = \u001b[38;5;28mint\u001b[39m( shapes[\u001b[33m'\u001b[39m\u001b[33mmarket\u001b[39m\u001b[33m'\u001b[39m][\u001b[33m'\u001b[39m\u001b[33mhedges\u001b[39m\u001b[33m'\u001b[39m][\u001b[32m2\u001b[39m] )\n\u001b[32m---> \u001b[39m\u001b[32m74\u001b[39m \u001b[38;5;28mself\u001b[39m.agent    = \u001b[43mAgentFactory\u001b[49m\u001b[43m(\u001b[49m\u001b[43m \u001b[49m\u001b[43mnInst\u001b[49m\u001b[43m,\u001b[49m\u001b[43m \u001b[49m\u001b[38;5;28;43mself\u001b[39;49m\u001b[43m.\u001b[49m\u001b[43mconfig_agent\u001b[49m\u001b[43m,\u001b[49m\u001b[43m \u001b[49m\u001b[43mname\u001b[49m\u001b[43m=\u001b[49m\u001b[33;43m\"\u001b[39;49m\u001b[33;43magent\u001b[39;49m\u001b[33;43m\"\u001b[39;49m\u001b[43m,\u001b[49m\u001b[43m    \u001b[49m\u001b[43mdtype\u001b[49m\u001b[43m=\u001b[49m\u001b[38;5;28;43mself\u001b[39;49m\u001b[43m.\u001b[49m\u001b[43mdtype\u001b[49m\u001b[43m \u001b[49m\u001b[43m)\u001b[49m \n\u001b[32m     75\u001b[39m \u001b[38;5;28mself\u001b[39m.utility  = MonetaryUtility( \u001b[38;5;28mself\u001b[39m.config_objective, name=\u001b[33m\"\u001b[39m\u001b[33mutility\u001b[39m\u001b[33m\"\u001b[39m,  dtype=\u001b[38;5;28mself\u001b[39m.dtype ) \n\u001b[32m     76\u001b[39m \u001b[38;5;28mself\u001b[39m.utility0 = MonetaryUtility( \u001b[38;5;28mself\u001b[39m.config_objective, name=\u001b[33m\"\u001b[39m\u001b[33mutility0\u001b[39m\u001b[33m\"\u001b[39m, dtype=\u001b[38;5;28mself\u001b[39m.dtype )\n",
      "\u001b[36mFile \u001b[39m\u001b[32mg:\\マイドライブ\\先行研究再現_0614\\deephedging\\agents.py:300\u001b[39m, in \u001b[36mAgentFactory\u001b[39m\u001b[34m(nInst, config, name, dtype)\u001b[39m\n\u001b[32m    272\u001b[39m \u001b[38;5;28;01mdef\u001b[39;00m\u001b[38;5;250m \u001b[39m\u001b[34mAgentFactory\u001b[39m( nInst : \u001b[38;5;28mint\u001b[39m, config : Config, name : \u001b[38;5;28mstr\u001b[39m = \u001b[38;5;28;01mNone\u001b[39;00m, dtype=dh_dtype ) -> tf.keras.layers.Layer:\n\u001b[32m    273\u001b[39m \u001b[38;5;250m    \u001b[39m\u001b[33;03m\"\"\"\u001b[39;00m\n\u001b[32m    274\u001b[39m \u001b[33;03m    Creates an agent network for nInst instruments based on 'config'.\u001b[39;00m\n\u001b[32m    275\u001b[39m \n\u001b[32m   (...)\u001b[39m\u001b[32m    298\u001b[39m \u001b[33;03m        An agent model\u001b[39;00m\n\u001b[32m    299\u001b[39m \u001b[33;03m    \"\"\"\u001b[39;00m    \n\u001b[32m--> \u001b[39m\u001b[32m300\u001b[39m     agent_type  = \u001b[43mconfig\u001b[49m\u001b[43m(\u001b[49m\u001b[33;43m\"\u001b[39;49m\u001b[33;43magent_type\u001b[39;49m\u001b[33;43m\"\u001b[39;49m\u001b[43m,\u001b[49m\u001b[43m \u001b[49m\u001b[33;43m\"\u001b[39;49m\u001b[33;43mfeed_forward\u001b[39;49m\u001b[33;43m\"\u001b[39;49m\u001b[43m,\u001b[49m\u001b[43m \u001b[49m\u001b[43m[\u001b[49m\u001b[33;43m'\u001b[39;49m\u001b[33;43mfeed_forward\u001b[39;49m\u001b[33;43m'\u001b[39;49m\u001b[43m,\u001b[49m\u001b[43m \u001b[49m\u001b[33;43m'\u001b[39;49m\u001b[33;43mdense_agent\u001b[39;49m\u001b[33;43m'\u001b[39;49m\u001b[43m]\u001b[49m\u001b[43m,\u001b[49m\u001b[43m \u001b[49m\u001b[33;43m\"\u001b[39;49m\u001b[33;43mWhich network agent type to use\u001b[39;49m\u001b[33;43m\"\u001b[39;49m\u001b[43m)\u001b[49m\n\u001b[32m    301\u001b[39m     agent       = \u001b[38;5;28;01mNone\u001b[39;00m\n\u001b[32m    302\u001b[39m     \u001b[38;5;28;01mif\u001b[39;00m agent_type \u001b[38;5;129;01min\u001b[39;00m [\u001b[33m\"\u001b[39m\u001b[33mfeed_forward\u001b[39m\u001b[33m\"\u001b[39m, \u001b[33m\"\u001b[39m\u001b[33mdense_agent\u001b[39m\u001b[33m\"\u001b[39m]:\n",
      "\u001b[31mTypeError\u001b[39m: 'TrackedDict' object is not callable"
     ]
    }
   ],
   "source": [
    "world = SimpleWorld_Spot_ATM(config.world)\n",
    "val_world = world.clone(samples=world.nSamples // 2)\n",
    "gym = VanillaDeepHedgingGym(config.gym)\n",
    "\n",
    "train(gym=gym, world=world, val_world=val_world, config=config)\n"
   ]
  },
  {
   "cell_type": "code",
   "execution_count": null,
   "id": "2181742b",
   "metadata": {},
   "outputs": [],
   "source": [
    "# ■Indifference Price の算出\n",
    "r = gym(world.tf_data)\n",
    "pi_minus_z = np.mean(r[\"utility\"])\n",
    "pi_0 = np.mean(r[\"utility0\"])\n",
    "indiff_price = pi_minus_z - pi_0\n",
    "\n",
    "print(f\"📌 Indifference Price: π(-Z) − π(0) = {indiff_price:.4f}\")\n"
   ]
  },
  {
   "cell_type": "code",
   "execution_count": null,
   "id": "9919488f",
   "metadata": {},
   "outputs": [],
   "source": [
    "plt.plot(gym.history[\"loss\"])\n",
    "plt.title(\"CVaR Loss during Training\")\n",
    "plt.xlabel(\"Epoch\")\n",
    "plt.ylabel(\"CVaR Loss\")\n",
    "plt.grid(True)\n",
    "plt.show()\n"
   ]
  },
  {
   "cell_type": "code",
   "execution_count": null,
   "id": "0d773b12",
   "metadata": {},
   "outputs": [],
   "source": [
    "# ■デルタ比較グラフ（Black-Scholes vs Deep Hedging）\n",
    "import deephedging.plot_bs_hedge as pb\n",
    "\n",
    "# ⚠️ 論文5.2ではHestonデルタヘッジが比較対象。\n",
    "# この関数はBSデルタを使っているため、参考程度にどうぞ。\n",
    "pb.plot(gym, world)"
   ]
  }
 ],
 "metadata": {
  "kernelspec": {
   "display_name": "venv",
   "language": "python",
   "name": "python3"
  },
  "language_info": {
   "codemirror_mode": {
    "name": "ipython",
    "version": 3
   },
   "file_extension": ".py",
   "mimetype": "text/x-python",
   "name": "python",
   "nbconvert_exporter": "python",
   "pygments_lexer": "ipython3",
   "version": "3.11.9"
  }
 },
 "nbformat": 4,
 "nbformat_minor": 5
}
